{
 "cells": [
  {
   "cell_type": "code",
   "execution_count": 4,
   "metadata": {},
   "outputs": [
    {
     "data": {
      "text/html": [
       "<style>.container { width:100% !important; }</style>"
      ],
      "text/plain": [
       "<IPython.core.display.HTML object>"
      ]
     },
     "metadata": {},
     "output_type": "display_data"
    }
   ],
   "source": [
    "from IPython.core.display import display, HTML\n",
    "display(HTML(\"<style>.container { width:100% !important; }</style>\"))"
   ]
  },
  {
   "cell_type": "code",
   "execution_count": 19,
   "metadata": {},
   "outputs": [],
   "source": [
    "import math\n",
    "\n",
    "import pandas as pd\n",
    "import matplotlib.pyplot as plt\n",
    "\n",
    "from sklearn import metrics\n",
    "from sklearn.neural_network import MLPClassifier\n",
    "from sklearn.metrics import confusion_matrix\n",
    "from sklearn.metrics import classification_report\n",
    "from sklearn.model_selection import train_test_split\n",
    "from sklearn.preprocessing import MinMaxScaler\n"
   ]
  },
  {
   "cell_type": "code",
   "execution_count": 9,
   "metadata": {},
   "outputs": [],
   "source": [
    "### Configuration\n",
    "dataFile = '../Data/FormationPrediction.csv'\n",
    "\n",
    "# Data columns\n",
    "colsInputs = ['GammaRay_API','BulkDensity_GPerCC','Resistivity_OHMSM','DensityPorosity_PCT','EffectivePorosity_PCT','TotalOrganicCarbon_WTPCT']\n",
    "colsOutputs = ['Formation Class']\n",
    "colsDrop = ['WellName','Latitude_BH','Longitude_BH','TopOfZone_FT','BottomOfZone_FT','Isopach_FT','TVD_FT']\n",
    "\n",
    "# Split train and test data\n",
    "testsize = 0.25\n",
    "cv = 5"
   ]
  },
  {
   "cell_type": "code",
   "execution_count": 10,
   "metadata": {},
   "outputs": [],
   "source": [
    "### Data Loading (raw data)\n",
    "df = pd.read_csv(dataFile)\n",
    "df = df.drop(columns=colsDrop,axis='columns')"
   ]
  },
  {
   "cell_type": "code",
   "execution_count": 11,
   "metadata": {},
   "outputs": [
    {
     "name": "stdout",
     "output_type": "stream",
     "text": [
      "Train Size = 5127, Test Size = 1710\n"
     ]
    }
   ],
   "source": [
    "### Data Pre-processing\n",
    "inputs = df[colsInputs]\n",
    "outputs = df[colsOutputs]\n",
    "\n",
    "# Split \"Train\" and \"Test\" data\n",
    "[xtrain,xtest,ytrain,ytest] = train_test_split(inputs,outputs,test_size=testsize,random_state=19)\n",
    "print(\"Train Size = \" + str(len(xtrain)) + \", Test Size = \" + str(len(xtest)))"
   ]
  },
  {
   "cell_type": "code",
   "execution_count": 31,
   "metadata": {},
   "outputs": [
    {
     "name": "stdout",
     "output_type": "stream",
     "text": [
      "[[1433    5]\n",
      " [ 186   86]]\n",
      "             precision    recall  f1-score   support\n",
      "\n",
      "          A       0.89      1.00      0.94      1438\n",
      "          B       0.95      0.32      0.47       272\n",
      "\n",
      "avg / total       0.89      0.89      0.86      1710\n",
      "\n"
     ]
    }
   ],
   "source": [
    "# Support Vector Machine\n",
    "clf = MLPClassifier(hidden_layer_sizes=(10,10),activation='relu',solver='adam',max_iter=1000,learning_rate_init=0.01,random_state=19)\n",
    "model = clf.fit(xtrain,ytrain.values.ravel())\n",
    "\n",
    "# Model prediction\n",
    "ytestpred = model.predict(xtest)\n",
    "print(confusion_matrix(ytest,ytestpred))\n",
    "print(classification_report(ytest,ytestpred))"
   ]
  },
  {
   "cell_type": "code",
   "execution_count": null,
   "metadata": {},
   "outputs": [],
   "source": []
  }
 ],
 "metadata": {
  "hide_input": false,
  "kernelspec": {
   "display_name": "Python 3",
   "language": "python",
   "name": "python3"
  },
  "language_info": {
   "codemirror_mode": {
    "name": "ipython",
    "version": 3
   },
   "file_extension": ".py",
   "mimetype": "text/x-python",
   "name": "python",
   "nbconvert_exporter": "python",
   "pygments_lexer": "ipython3",
   "version": "3.7.6"
  },
  "toc": {
   "base_numbering": 1,
   "nav_menu": {},
   "number_sections": true,
   "sideBar": true,
   "skip_h1_title": false,
   "title_cell": "Table of Contents",
   "title_sidebar": "Contents",
   "toc_cell": false,
   "toc_position": {},
   "toc_section_display": true,
   "toc_window_display": false
  },
  "varInspector": {
   "cols": {
    "lenName": 16,
    "lenType": 16,
    "lenVar": 40
   },
   "kernels_config": {
    "python": {
     "delete_cmd_postfix": "",
     "delete_cmd_prefix": "del ",
     "library": "var_list.py",
     "varRefreshCmd": "print(var_dic_list())"
    },
    "r": {
     "delete_cmd_postfix": ") ",
     "delete_cmd_prefix": "rm(",
     "library": "var_list.r",
     "varRefreshCmd": "cat(var_dic_list()) "
    }
   },
   "types_to_exclude": [
    "module",
    "function",
    "builtin_function_or_method",
    "instance",
    "_Feature"
   ],
   "window_display": false
  }
 },
 "nbformat": 4,
 "nbformat_minor": 2
}
