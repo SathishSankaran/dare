{
 "cells": [
  {
   "cell_type": "code",
   "execution_count": 36,
   "metadata": {},
   "outputs": [
    {
     "data": {
      "text/html": [
       "<style>.container { width:100% !important; }</style>"
      ],
      "text/plain": [
       "<IPython.core.display.HTML object>"
      ]
     },
     "metadata": {},
     "output_type": "display_data"
    }
   ],
   "source": [
    "from IPython.core.display import display, HTML\n",
    "display(HTML(\"<style>.container { width:100% !important; }</style>\"))"
   ]
  },
  {
   "cell_type": "code",
   "execution_count": 37,
   "metadata": {},
   "outputs": [],
   "source": [
    "import math\n",
    "\n",
    "import pandas as pd\n",
    "import matplotlib.pyplot as plt\n",
    "\n",
    "from sklearn import metrics\n",
    "from sklearn.tree import DecisionTreeClassifier\n",
    "from sklearn.metrics import confusion_matrix\n",
    "from sklearn.model_selection import train_test_split\n",
    "from sklearn.preprocessing import MinMaxScaler\n"
   ]
  },
  {
   "cell_type": "code",
   "execution_count": 38,
   "metadata": {},
   "outputs": [],
   "source": [
    "### Configuration\n",
    "dataFile = '../Data/FormationPrediction.csv'\n",
    "\n",
    "# Data columns\n",
    "colsInputs = ['GammaRay_API','BulkDensity_GPerCC','Resistivity_OHMSM','DensityPorosity_PCT','EffectivePorosity_PCT','TotalOrganicCarbon_WTPCT']\n",
    "colsOutputs = ['Formation Class']\n",
    "colsDrop = ['WellName','Latitude_BH','Longitude_BH','TopOfZone_FT','BottomOfZone_FT','Isopach_FT','TVD_FT']\n",
    "\n",
    "# Split train and test data\n",
    "testsize = 0.25\n",
    "cv = 5"
   ]
  },
  {
   "cell_type": "code",
   "execution_count": 39,
   "metadata": {},
   "outputs": [],
   "source": [
    "### Data Loading (raw data)\n",
    "df = pd.read_csv(dataFile)\n",
    "df = df.drop(columns=colsDrop,axis='columns')"
   ]
  },
  {
   "cell_type": "code",
   "execution_count": 40,
   "metadata": {},
   "outputs": [
    {
     "name": "stdout",
     "output_type": "stream",
     "text": [
      "Train Size = 5127, Test Size = 1710\n"
     ]
    }
   ],
   "source": [
    "### Data Pre-processing\n",
    "inputs = df[colsInputs]\n",
    "outputs = df[colsOutputs]\n",
    "\n",
    "# Split \"Train\" and \"Test\" data\n",
    "[xtrain,xtest,ytrain,ytest] = train_test_split(inputs,outputs,test_size=testsize,random_state=19)\n",
    "print(\"Train Size = \" + str(len(xtrain)) + \", Test Size = \" + str(len(xtest)))"
   ]
  },
  {
   "cell_type": "code",
   "execution_count": 41,
   "metadata": {},
   "outputs": [
    {
     "name": "stdout",
     "output_type": "stream",
     "text": [
      "[0.20155456 0.01430148 0.57129328 0.04977942 0.05826446 0.10480679]\n"
     ]
    },
    {
     "data": {
      "text/plain": [
       "array([[1416,   22],\n",
       "       [  21,  251]], dtype=int64)"
      ]
     },
     "execution_count": 41,
     "metadata": {},
     "output_type": "execute_result"
    }
   ],
   "source": [
    "# Decision Tree\n",
    "clf = DecisionTreeClassifier(random_state=19)\n",
    "model = clf.fit(xtrain,ytrain.values.ravel())\n",
    "\n",
    "# Model prediction\n",
    "ytestpred = model.predict(xtest)\n",
    "confusion_matrix(ytest,ytestpred)"
   ]
  },
  {
   "cell_type": "code",
   "execution_count": 35,
   "metadata": {},
   "outputs": [],
   "source": [
    "# Creates dot file named tree.dot\n",
    "dot_data = export_graphviz(\n",
    "            clf,\n",
    "            out_file =  None,\n",
    "            feature_names = list(xtrain.columns),\n",
    "            class_names = ['A','B'],\n",
    "            filled = True,\n",
    "            rounded = True)\n",
    "\n",
    "# Visualize data from graphviz application (install Windows)"
   ]
  },
  {
   "cell_type": "code",
   "execution_count": 61,
   "metadata": {},
   "outputs": [
    {
     "data": {
      "image/png": "[encoded data removed]",
      "text/plain": [
       "<Figure size 1440x720 with 1 Axes>"
      ]
     },
     "metadata": {
      "needs_background": "light"
     },
     "output_type": "display_data"
    }
   ],
   "source": [
    "fig = plt.figure(figsize=(20,10))\n",
    "\n",
    "ypos = np.arange(len(xtrain.columns))\n",
    "ax = fig.add_subplot(1,1,1)\n",
    "ax.bar(ypos,clf.feature_importances_)\n",
    "plt.xticks(ypos,xtrain.columns,fontsize=15)\n",
    "ax.set_ylabel('Importance',fontsize=15)\n",
    "ax.grid()"
   ]
  },
  {
   "cell_type": "code",
   "execution_count": null,
   "metadata": {},
   "outputs": [],
   "source": []
  }
 ],
 "metadata": {
  "hide_input": false,
  "kernelspec": {
   "display_name": "Python 3",
   "language": "python",
   "name": "python3"
  },
  "language_info": {
   "codemirror_mode": {
    "name": "ipython",
    "version": 3
   },
   "file_extension": ".py",
   "mimetype": "text/x-python",
   "name": "python",
   "nbconvert_exporter": "python",
   "pygments_lexer": "ipython3",
   "version": "3.7.0"
  },
  "toc": {
   "base_numbering": 1,
   "nav_menu": {},
   "number_sections": true,
   "sideBar": true,
   "skip_h1_title": false,
   "title_cell": "Table of Contents",
   "title_sidebar": "Contents",
   "toc_cell": false,
   "toc_position": {},
   "toc_section_display": true,
   "toc_window_display": false
  },
  "varInspector": {
   "cols": {
    "lenName": 16,
    "lenType": 16,
    "lenVar": 40
   },
   "kernels_config": {
    "python": {
     "delete_cmd_postfix": "",
     "delete_cmd_prefix": "del ",
     "library": "var_list.py",
     "varRefreshCmd": "print(var_dic_list())"
    },
    "r": {
     "delete_cmd_postfix": ") ",
     "delete_cmd_prefix": "rm(",
     "library": "var_list.r",
     "varRefreshCmd": "cat(var_dic_list()) "
    }
   },
   "position": {
    "height": "788px",
    "left": "1294px",
    "right": "20px",
    "top": "120px",
    "width": "598px"
   },
   "types_to_exclude": [
    "module",
    "function",
    "builtin_function_or_method",
    "instance",
    "_Feature"
   ],
   "window_display": false
  },
  "widgets": {
   "application/vnd.jupyter.widget-state+json": {
    "state": {},
    "version_major": 2,
    "version_minor": 0
   }
  }
 },
 "nbformat": 4,
 "nbformat_minor": 2
}
