{
 "cells": [
  {
   "cell_type": "code",
   "execution_count": 27,
   "metadata": {},
   "outputs": [],
   "source": [
    "import numpy as np\n",
    "import matplotlib.pyplot as plt\n",
    "from numpy.linalg import inv, pinv"
   ]
  },
  {
   "cell_type": "code",
   "execution_count": 28,
   "metadata": {},
   "outputs": [],
   "source": [
    "# Initial state (position, velocity)\n",
    "x0 = np.array([[0, 5]]).T\n",
    "\n",
    "# Covariance of measurement\n",
    "P = np.array([[0.01, 0], [0, 1]])\n",
    "\n",
    "# Noise in prediction / process model\n",
    "Q = np.array([[0.1, 0], [0, 0.1]])\n",
    "\n",
    "# Noise in measurement model\n",
    "R = np.array([0.05])\n",
    "\n",
    "# Timestep\n",
    "dt = 0.5\n",
    "\n",
    "# Fixed input (acceleration)\n",
    "u = np.array([-2]).reshape(1, 1)\n",
    "\n",
    "# True output after one timestep\n",
    "y = np.array([2.2]).reshape(1, 1)\n",
    "\n",
    "# Process model\n",
    "F = np.array([[1, dt], [0, 1]])\n",
    "G = np.array([[0, dt]]).T\n",
    "H = np.array([1, 0]).reshape(1, 2)"
   ]
  },
  {
   "cell_type": "code",
   "execution_count": 29,
   "metadata": {},
   "outputs": [],
   "source": [
    "def Predict(F, G, x, u, P, Q):\n",
    "    x = F @ x + G @ u\n",
    "    P = F @ P @ F.T + Q\n",
    "    return x, P\n",
    "\n",
    "def Update(P, H, R, x, y):\n",
    "    K = P @ H.T / (H @ P @ H.T + R)\n",
    "    x = x + K @ (y - H @ x)\n",
    "    P = (np.identity(K.shape[0]) - K @ H) @ P\n",
    "    return x, P"
   ]
  },
  {
   "cell_type": "code",
   "execution_count": 30,
   "metadata": {},
   "outputs": [
    {
     "name": "stdout",
     "output_type": "stream",
     "text": [
      "x:  [[2.5]\n",
      " [4. ]] \n",
      "P: [[0.36 0.5 ]\n",
      " [0.5  1.1 ]]\n",
      "x:  [[2.24]\n",
      " [3.63]] \n",
      "P: [[0.04 0.06]\n",
      " [0.06 0.49]]\n"
     ]
    },
    {
     "data": {
      "text/plain": [
       "Text(0, 0.5, 'Velocity (m/s)')"
      ]
     },
     "execution_count": 30,
     "metadata": {},
     "output_type": "execute_result"
    },
    {
     "data": {
      "image/png": "[encoded data removed]",
      "text/plain": [
       "<Figure size 432x288 with 1 Axes>"
      ]
     },
     "metadata": {
      "needs_background": "light"
     },
     "output_type": "display_data"
    }
   ],
   "source": [
    "plt.plot(x0[0], x0[1], 'ko', label='Initial')\n",
    "\n",
    "# Predict - Process model\n",
    "x, P = Predict(F, G, x0, u, P, Q)\n",
    "print('x: ', np.round(x,2), '\\nP:', np.round(P,2))\n",
    "plt.plot(x[0], x[1], 'bo', label='Predict')\n",
    "\n",
    "# Update - Measurement model\n",
    "x, P = Update(P, H, R, x, y)\n",
    "print('x: ', np.round(x,2), '\\nP:', np.round(P,2))\n",
    "plt.plot(x[0], x[1], 'ro', label='Update')\n",
    "\n",
    "plt.grid()\n",
    "plt.legend()\n",
    "plt.xlabel('Position (m)')\n",
    "plt.ylabel('Velocity (m/s)')"
   ]
  },
  {
   "cell_type": "code",
   "execution_count": null,
   "metadata": {},
   "outputs": [],
   "source": []
  }
 ],
 "metadata": {
  "kernelspec": {
   "display_name": "Python 3.10.4 64-bit",
   "language": "python",
   "name": "python3"
  },
  "language_info": {
   "codemirror_mode": {
    "name": "ipython",
    "version": 3
   },
   "file_extension": ".py",
   "mimetype": "text/x-python",
   "name": "python",
   "nbconvert_exporter": "python",
   "pygments_lexer": "ipython3",
   "version": "3.10.4"
  },
  "orig_nbformat": 4,
  "vscode": {
   "interpreter": {
    "hash": "ff94e04bc2259227563990876045a4bd4256f9c93a2e99012193e8e108bc984e"
   }
  }
 },
 "nbformat": 4,
 "nbformat_minor": 2
}
